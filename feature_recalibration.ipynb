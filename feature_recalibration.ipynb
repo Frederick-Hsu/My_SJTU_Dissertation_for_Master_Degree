{
 "cells": [
  {
   "cell_type": "markdown",
   "metadata": {},
   "source": [
    "# Demonstrate how to calculate the feature recalibration"
   ]
  },
  {
   "cell_type": "code",
   "execution_count": 1,
   "metadata": {},
   "outputs": [
    {
     "name": "stderr",
     "output_type": "stream",
     "text": [
      "/home/frederique_hsu/.local/lib/python3.10/site-packages/tqdm/auto.py:22: TqdmWarning: IProgress not found. Please update jupyter and ipywidgets. See https://ipywidgets.readthedocs.io/en/stable/user_install.html\n",
      "  from .autonotebook import tqdm as notebook_tqdm\n"
     ]
    }
   ],
   "source": [
    "batch, channel, depth, height, width = [1, 2, 3, 4, 5]\n",
    "\n",
    "\n",
    "import numpy as np\n",
    "import torch\n",
    "\n",
    "num_array = np.array([num for num in range(1, batch * channel * depth * height * width + 1)]).reshape([batch, channel, depth, height, width])\n",
    "\n",
    "input_tensor = torch.from_numpy(num_array)\n",
    "Feat = input_tensor"
   ]
  },
  {
   "cell_type": "code",
   "execution_count": 2,
   "metadata": {},
   "outputs": [],
   "source": [
    "Depth = depth\n",
    "Height = height\n",
    "Width = width\n",
    "Channel = channel\n",
    "\n",
    "#              b  c  d  h  w\n",
    "cuboid0 = Feat[0, 0, :, :, :]\n",
    "cuboid1 = Feat[0, 1, :, :, :]\n",
    "\n",
    "#                    b  c  d  h  w\n",
    "channel_feats = Feat[0, :, :, :, :]\n",
    "Am = channel_feats\n",
    "\n",
    "# print(Am)"
   ]
  },
  {
   "cell_type": "code",
   "execution_count": 8,
   "metadata": {},
   "outputs": [
    {
     "name": "stdout",
     "output_type": "stream",
     "text": [
      "Depth_axis.shape = torch.Size([1, 3, 2, 4, 5])\n",
      "Height_axis.shape =  torch.Size([1, 4, 3, 2, 5])\n"
     ]
    }
   ],
   "source": [
    "Depth_axis = Feat.permute(0, 2, 1, 3, 4)\n",
    "print(\"Depth_axis.shape =\", Depth_axis.shape)\n",
    "\n",
    "Height_axis = Feat.permute(0, 3, 2, 1, 4)\n",
    "print(\"Height_axis.shape = \", Height_axis.shape)"
   ]
  },
  {
   "cell_type": "markdown",
   "metadata": {},
   "source": [
    "计算\n",
    "$$\n",
    "    \\int_{V} A_m d(Depth) = \\sum_{h=1}^{H_m} \\sum_{w=1}^{W_m} A_m[:, :, h, w]\n",
    "$$\n",
    "\n",
    "$$\n",
    "    \\int_{V} A_m d(Height) = \\sum_{d=1}^{D_m} \\sum_{w=1}^{W_m} A_m[:, d, :, w]\n",
    "$$\n",
    "\n",
    "$$\n",
    "    \\int_{V} A_m d(Width) = \\sum_{d=1}^{D_m} \\sum_{h}^{H_m} A_m[:, d, h, :]\n",
    "$$"
   ]
  },
  {
   "cell_type": "code",
   "execution_count": 4,
   "metadata": {},
   "outputs": [
    {
     "name": "stdout",
     "output_type": "stream",
     "text": [
      "tensor([[  1,  21,  41],\n",
      "        [ 61,  81, 101]])\n",
      "tensor([[  2,  22,  42],\n",
      "        [ 62,  82, 102]])\n",
      "tensor([[  3,  23,  43],\n",
      "        [ 63,  83, 103]])\n",
      "tensor([[  4,  24,  44],\n",
      "        [ 64,  84, 104]])\n",
      "tensor([[  5,  25,  45],\n",
      "        [ 65,  85, 105]])\n",
      "\n",
      "\n",
      "tensor([[  6,  26,  46],\n",
      "        [ 66,  86, 106]])\n",
      "tensor([[  7,  27,  47],\n",
      "        [ 67,  87, 107]])\n",
      "tensor([[  8,  28,  48],\n",
      "        [ 68,  88, 108]])\n",
      "tensor([[  9,  29,  49],\n",
      "        [ 69,  89, 109]])\n",
      "tensor([[ 10,  30,  50],\n",
      "        [ 70,  90, 110]])\n",
      "\n",
      "\n",
      "tensor([[ 11,  31,  51],\n",
      "        [ 71,  91, 111]])\n",
      "tensor([[ 12,  32,  52],\n",
      "        [ 72,  92, 112]])\n",
      "tensor([[ 13,  33,  53],\n",
      "        [ 73,  93, 113]])\n",
      "tensor([[ 14,  34,  54],\n",
      "        [ 74,  94, 114]])\n",
      "tensor([[ 15,  35,  55],\n",
      "        [ 75,  95, 115]])\n",
      "\n",
      "\n",
      "tensor([[ 16,  36,  56],\n",
      "        [ 76,  96, 116]])\n",
      "tensor([[ 17,  37,  57],\n",
      "        [ 77,  97, 117]])\n",
      "tensor([[ 18,  38,  58],\n",
      "        [ 78,  98, 118]])\n",
      "tensor([[ 19,  39,  59],\n",
      "        [ 79,  99, 119]])\n",
      "tensor([[ 20,  40,  60],\n",
      "        [ 80, 100, 120]])\n",
      "\n",
      "\n"
     ]
    }
   ],
   "source": [
    "#                    2         3     4       5\n",
    "Results = np.zeros([Channel, Depth, Height, Width])\n",
    "\n",
    "for h in range(0, Height):\n",
    "    for w in range(0, Width):\n",
    "        intermediate_result = Am[:, :, h, w]\n",
    "        print(intermediate_result)\n",
    "    print(\"\\n\")"
   ]
  },
  {
   "cell_type": "code",
   "execution_count": 14,
   "metadata": {},
   "outputs": [
    {
     "name": "stdout",
     "output_type": "stream",
     "text": [
      "(2, 3, 4)\n",
      "torch.Size([3, 2, 3])\n"
     ]
    }
   ],
   "source": [
    "import torch\n",
    "import numpy as np\n",
    "\n",
    "cube_npy = np.array([\n",
    "    [\n",
    "        [1, 2, 3, 4],\n",
    "        [5, 6, 7, 8],\n",
    "        [9, 10, 11, 12]\n",
    "    ],\n",
    "    [\n",
    "        [13, 14, 15, 16],\n",
    "        [17, 18, 19, 20],\n",
    "        [21, 22, 23, 24]\n",
    "    ]\n",
    "])\n",
    "\n",
    "cube_tensor = torch.tensor([\n",
    "    [\n",
    "        [1, 2, 3],\n",
    "        [4, 5, 6]\n",
    "    ],\n",
    "    [\n",
    "        [7, 8, 9],\n",
    "        [10, 11, 12]\n",
    "    ],\n",
    "    [\n",
    "        [13, 14, 15],\n",
    "        [16, 17, 18]\n",
    "    ]\n",
    "])\n",
    "\n",
    "print(cube_npy.shape)\n",
    "print(cube_tensor.shape)"
   ]
  },
  {
   "cell_type": "code",
   "execution_count": 20,
   "metadata": {},
   "outputs": [
    {
     "name": "stdout",
     "output_type": "stream",
     "text": [
      "(1, 16, 80, 1, 1) (1, 16, 1, 192, 1) (1, 16, 1, 1, 304)\n",
      "(1, 16, 80, 192, 304)\n"
     ]
    }
   ],
   "source": [
    "depth_integration_npy = np.load(\"D_Integration.npy\")\n",
    "height_integration_npy = np.load(\"H_Integration.npy\")\n",
    "width_integration_npy = np.load(\"W_Integration.npy\")\n",
    "\n",
    "print(depth_integration_npy.shape, \n",
    "      height_integration_npy.shape, \n",
    "      width_integration_npy.shape)\n",
    "\n",
    "total = depth_integration_npy + height_integration_npy + width_integration_npy\n",
    "print(total.shape)"
   ]
  },
  {
   "cell_type": "markdown",
   "metadata": {},
   "source": []
  },
  {
   "cell_type": "markdown",
   "metadata": {},
   "source": []
  },
  {
   "cell_type": "markdown",
   "metadata": {},
   "source": []
  },
  {
   "cell_type": "markdown",
   "metadata": {},
   "source": []
  },
  {
   "cell_type": "markdown",
   "metadata": {},
   "source": []
  },
  {
   "cell_type": "markdown",
   "metadata": {},
   "source": []
  },
  {
   "cell_type": "markdown",
   "metadata": {},
   "source": []
  },
  {
   "cell_type": "markdown",
   "metadata": {},
   "source": []
  },
  {
   "cell_type": "markdown",
   "metadata": {},
   "source": []
  },
  {
   "cell_type": "markdown",
   "metadata": {},
   "source": [
    "# 计算指标平均值"
   ]
  },
  {
   "cell_type": "code",
   "execution_count": 5,
   "metadata": {},
   "outputs": [],
   "source": [
    "FPR_list = [\n",
    "0.006,\n",
    "0.031,\n",
    "\n",
    "0.023,\n",
    "0.046,\n",
    "0.031,\n",
    "0.035,\n",
    "0.034,\n",
    "0.023,\n",
    "0.027,\n",
    "0.055,\n",
    "0.024,\n",
    "0.03 ,\n",
    "0.042,\n",
    "0.084,\n",
    "0.043,\n",
    "0.034,\n",
    "\n",
    "\n",
    "\n",
    "0.036,\n",
    "0.039,\n",
    "0.017,\n",
    "0.018,\n",
    "0.046,\n",
    "\n",
    "0.014,\n",
    "0.016]\n",
    "\n",
    "FNR_list = [\n",
    "7.119,\n",
    "7.676,\n",
    "\n",
    "3.712,\n",
    "4.59 ,\n",
    "4.924,\n",
    "4.141,\n",
    "5.475,\n",
    "3.4  ,\n",
    "4.291,\n",
    "3.997,\n",
    "5.497,\n",
    "4.487,\n",
    "4.036,\n",
    "3.823,\n",
    "3.584,\n",
    "4.417,\n",
    "\n",
    "\n",
    "\n",
    "0.401,\n",
    "0.288,\n",
    "0.984,\n",
    "2.352,\n",
    "1.354,\n",
    "\n",
    "3.294,\n",
    "2.107,\n",
    "]\n",
    "\n",
    "Sensitivity_list = [\n",
    "92.88,\n",
    "92.32,\n",
    "\n",
    "96.29,\n",
    "95.41,\n",
    "95.08,\n",
    "95.86,\n",
    "94.53,\n",
    "96.6 ,\n",
    "95.71,\n",
    "96.00,\n",
    "94.5 ,\n",
    "95.51,\n",
    "95.96,\n",
    "96.18,\n",
    "96.42,\n",
    "95.58,\n",
    "\n",
    "\n",
    "\n",
    "99.6 ,\n",
    "99.39,\n",
    "99.02,\n",
    "97.65,\n",
    "98.65,\n",
    "\n",
    "96.71,\n",
    "97.89,\n",
    "]\n",
    "\n",
    "Precision_list = [\n",
    "98.18,\n",
    "91.01,\n",
    "\n",
    "96.00,\n",
    "87.19,\n",
    "92.47,\n",
    "91.31,\n",
    "91.42,\n",
    "93.67,\n",
    "92.16,\n",
    "86.13,\n",
    "93.15,\n",
    "92.27,\n",
    "89.15,\n",
    "79.61,\n",
    "87.12,\n",
    "92.17,\n",
    "\n",
    "\n",
    "\n",
    "84.2 ,\n",
    "82.94,\n",
    "94.59,\n",
    "93.35,\n",
    "87.13,\n",
    "\n",
    "95.3 ,\n",
    "94.49,\n",
    "]\n",
    "\n",
    "DSC_list = [\n",
    "95.04,\n",
    "91.66,\n",
    "\n",
    "96.06,\n",
    "90.65,\n",
    "93.76,\n",
    "93.24,\n",
    "92.94,\n",
    "94.96,\n",
    "93.62,\n",
    "90.8 ,\n",
    "93.76,\n",
    "93.86,\n",
    "92.43,\n",
    "87.11,\n",
    "91.53,\n",
    "93.85,\n",
    "\n",
    "\n",
    "\n",
    "91.26,\n",
    "90.42,\n",
    "96.57,\n",
    "95.33,\n",
    "92.45,\n",
    "\n",
    "96.26,\n",
    "95.36,\n",
    "]\n",
    "\n",
    "BD_list = [\n",
    "66.84,\n",
    "84.18,\n",
    "\n",
    "88.44,\n",
    "79.27,\n",
    "70.28,\n",
    "80.72,\n",
    "74.57,\n",
    "83.76,\n",
    "79.23,\n",
    "82.23,\n",
    "77.36,\n",
    "76.57,\n",
    "75.53,\n",
    "70.35,\n",
    "78.66,\n",
    "78.39,\n",
    "\n",
    "\n",
    "\n",
    "100  ,\n",
    "100  ,\n",
    "97.24,\n",
    "96.89,\n",
    "96   ,\n",
    "\n",
    "91.16,\n",
    "91.77,\n",
    "]\n",
    "\n",
    "TLD_list = [\n",
    "82.96,\n",
    "92.28,\n",
    "\n",
    "93.92,\n",
    "88.92,\n",
    "82.27,\n",
    "88.63,\n",
    "85.34,\n",
    "90.9 ,\n",
    "88.00,\n",
    "89.15,\n",
    "86.64,\n",
    "88.32,\n",
    "87.34,\n",
    "87.09,\n",
    "89.93,\n",
    "90.1 ,\n",
    "\n",
    "\n",
    "\n",
    "99.89,\n",
    "99.9 ,\n",
    "96.57,\n",
    "96   ,\n",
    "95.64,\n",
    "\n",
    "95.2 ,\n",
    "95.32]"
   ]
  },
  {
   "cell_type": "code",
   "execution_count": 6,
   "metadata": {},
   "outputs": [
    {
     "name": "stdout",
     "output_type": "stream",
     "text": [
      "0.032782608695652186 3.73691304347826 96.2495652173913 90.65260869565218 93.1704347826087 83.45391304347827 90.88304347826089\n"
     ]
    }
   ],
   "source": [
    "FPR_avg = np.mean(np.array(FPR_list).astype(np.float64))\n",
    "FNR_avg = np.mean(np.array(FNR_list).astype(np.float64))\n",
    "Sensitivity_avg = np.mean(np.array(Sensitivity_list).astype(np.float64))\n",
    "Precision_avg = np.mean(np.array(Precision_list).astype(np.float64))\n",
    "DSC_avg = np.mean(np.array(DSC_list).astype(np.float64))\n",
    "BD_avg = np.mean(np.array(BD_list).astype(np.float64))\n",
    "TLD_avg = np.mean(np.array(TLD_list).astype(np.float64))\n",
    "\n",
    "print(FPR_avg, FNR_avg, Sensitivity_avg, Precision_avg, DSC_avg, BD_avg, TLD_avg)"
   ]
  },
  {
   "cell_type": "markdown",
   "metadata": {},
   "source": []
  }
 ],
 "metadata": {
  "kernelspec": {
   "display_name": "Python 3.10.6 64-bit",
   "language": "python",
   "name": "python3"
  },
  "language_info": {
   "codemirror_mode": {
    "name": "ipython",
    "version": 3
   },
   "file_extension": ".py",
   "mimetype": "text/x-python",
   "name": "python",
   "nbconvert_exporter": "python",
   "pygments_lexer": "ipython3",
   "version": "3.10.6"
  },
  "orig_nbformat": 4,
  "vscode": {
   "interpreter": {
    "hash": "916dbcbb3f70747c44a77c7bcd40155683ae19c65e1c03b4aa3499c5328201f1"
   }
  }
 },
 "nbformat": 4,
 "nbformat_minor": 2
}
