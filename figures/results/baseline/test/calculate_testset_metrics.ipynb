{
 "cells": [
  {
   "cell_type": "markdown",
   "metadata": {},
   "source": [
    "# Calculate the metrics for test set"
   ]
  },
  {
   "cell_type": "code",
   "execution_count": 1,
   "metadata": {},
   "outputs": [],
   "source": [
    "import os"
   ]
  },
  {
   "cell_type": "code",
   "execution_count": 19,
   "metadata": {},
   "outputs": [
    {
     "name": "stdout",
     "output_type": "stream",
     "text": [
      "19\n"
     ]
    }
   ],
   "source": [
    "niigz_files = os.listdir()\n",
    "niigz_files.sort()\n",
    "# niigz_files\n",
    "\n",
    "groundtruth_files = []\n",
    "predict_files = []\n",
    "for niigz_file in niigz_files:\n",
    "    if \"groundtruth\" in niigz_file:\n",
    "        groundtruth_files.append(niigz_file)\n",
    "    if \"predict\" in niigz_file:\n",
    "        predict_files.append(niigz_file)\n",
    "\n",
    "groundtruth_files.sort()\n",
    "predict_files.sort()\n",
    "\n",
    "case_names = []\n",
    "for file in groundtruth_files:\n",
    "    case_name = file.split(\"-groundtruth\")[0]\n",
    "    case_names.append(case_name)\n",
    "\n",
    "case_names.sort()\n",
    "# print(case_names)\n",
    "\n",
    "test_dict = dict()\n",
    "for case_name in case_names:\n",
    "    test_dict[case_name] = {}\n",
    "    groundtruth_niigz = case_name + \"-groundtruth.nii.gz\"\n",
    "    predict_niigz = case_name + \"-predict.nii.gz\"\n",
    "    test_dict[case_name][\"groundtruth\"] = groundtruth_niigz\n",
    "    test_dict[case_name][\"predict\"] = predict_niigz\n",
    "\n",
    "print(len(test_dict))"
   ]
  },
  {
   "cell_type": "code",
   "execution_count": 11,
   "metadata": {},
   "outputs": [],
   "source": [
    "import SimpleITK as sitk\n",
    "import numpy as np\n",
    "\n",
    "def load_CT_scan_3D_image(niigz_file_name):\n",
    "    itkimage = sitk.ReadImage(niigz_file_name)\n",
    "    numpyImages = sitk.GetArrayFromImage(itkimage)\n",
    "    numpyOrigin = np.array(list(reversed(itkimage.GetOrigin())))\n",
    "    numpySpacing = np.array(list(reversed(itkimage.GetSpacing())))\n",
    "    return numpyImages, numpyOrigin, numpySpacing\n",
    "\n",
    "def false_positive_rate_calculation(pred, label, smooth=1e-5):\n",
    "    pred = pred.flatten()\n",
    "    label = label.flatten()\n",
    "    fp = np.sum(pred - pred * label) + smooth\n",
    "    fpr = round(fp * 100 / (np.sum((1.0 - label)) + smooth), 3)\n",
    "    return fpr\n",
    "\n",
    "def false_negative_rate_calculation(pred, label, smooth=1e-5):\n",
    "    pred = pred.flatten()\n",
    "    label = label.flatten()\n",
    "    fn = np.sum(label - pred * label) + smooth\n",
    "    fnr = round(fn * 100 / (np.sum(label) + smooth), 3)\n",
    "    return fnr\n",
    "\n",
    "def sensitivity_calculation(pred, label):   #  identical to True-Positive-Rate\n",
    "    sensitivity = round(100 - false_negative_rate_calculation(pred, label), 3)\n",
    "    return sensitivity\n",
    "\n",
    "def dice_coefficient_score_calculation(pred, label, smooth=1e-5):\n",
    "    pred = pred.flatten()\n",
    "    label = label.flatten()\n",
    "    intersection = np.sum(pred * label)\n",
    "    dice_coefficient_score = round(((2.0 * intersection + smooth) / (np.sum(pred) + np.sum(label) + smooth)) * 100, 2)\n",
    "    return dice_coefficient_score\n",
    "\n",
    "def precision_calculation(pred, label, smooth=1e-5):\n",
    "    pred = pred.flatten()\n",
    "    label = label.flatten()\n",
    "    tp = np.sum(pred * label) + smooth\n",
    "    precision = round(tp * 100 / (np.sum(pred) + smooth), 3)\n",
    "    return precision\n"
   ]
  },
  {
   "cell_type": "code",
   "execution_count": 20,
   "metadata": {},
   "outputs": [
    {
     "name": "stdout",
     "output_type": "stream",
     "text": [
      "ATM_001_0000 & 0.006 & 7.24 & 92.76 & 98.089 & 95.35\n",
      "ATM_024_0000 & 0.031 & 7.236 & 92.764 & 90.916 & 91.83\n",
      "ATM_034_0000 & 0.022 & 3.705 & 96.295 & 96.251 & 96.27\n",
      "ATM_041_0000 & 0.047 & 4.808 & 95.192 & 87.189 & 91.02\n",
      "ATM_060_0000 & 0.024 & 2.534 & 97.466 & 93.12 & 95.24\n",
      "ATM_061_0000 & 0.028 & 3.121 & 96.879 & 91.897 & 94.32\n",
      "ATM_074_0000 & 0.053 & 3.838 & 96.162 & 87.038 & 91.37\n",
      "ATM_075_0000 & 0.023 & 4.633 & 95.367 & 93.65 & 94.5\n",
      "ATM_080_0000 & 0.026 & 4.067 & 95.933 & 93.183 & 94.54\n",
      "ATM_150_0000 & 0.082 & 3.902 & 96.098 & 80.036 & 87.33\n",
      "ATM_158_0000 & 0.044 & 3.461 & 96.539 & 86.953 & 91.5\n",
      "ATM_163_0000 & 0.035 & 4.301 & 95.699 & 91.958 & 93.79\n",
      "ATM_197_0000 & 0.032 & 9.234 & 90.766 & 90.81 & 90.79\n",
      "ATM_245_0000 & 0.038 & 0.309 & 99.691 & 83.496 & 90.88\n",
      "ATM_246_0000 & 0.04 & 0.611 & 99.389 & 82.853 & 90.37\n",
      "ATM_260_0000 & 0.016 & 1.041 & 98.959 & 94.227 & 96.53\n",
      "ATM_266_0000 & 0.019 & 2.351 & 97.649 & 93.112 & 95.33\n",
      "ATM_271_0000 & 0.049 & 1.044 & 98.956 & 86.544 & 92.33\n",
      "ATM_638_0000 & 0.014 & 3.152 & 96.848 & 95.199 & 96.02\n"
     ]
    }
   ],
   "source": [
    "for item in test_dict.items():\n",
    "    case_name = item[0]\n",
    "    gt_npy, origin, spacing = load_CT_scan_3D_image(item[1][\"groundtruth\"])\n",
    "    pred_npy, _, _ = load_CT_scan_3D_image(item[1][\"predict\"])\n",
    "    \n",
    "    FPR = false_positive_rate_calculation(pred_npy, gt_npy)\n",
    "    FNR = false_negative_rate_calculation(pred_npy, gt_npy)\n",
    "    Sensitivity = sensitivity_calculation(pred_npy, gt_npy)\n",
    "    Precision = precision_calculation(pred_npy, gt_npy)\n",
    "    DSC = dice_coefficient_score_calculation(pred_npy, gt_npy)\n",
    "    \n",
    "    print(\"{0} & {1} & {2} & {3} & {4} & {5}\"\n",
    "          .format(case_name, FPR, FNR, Sensitivity, Precision, DSC))\n",
    "    "
   ]
  },
  {
   "cell_type": "code",
   "execution_count": null,
   "metadata": {},
   "outputs": [],
   "source": []
  }
 ],
 "metadata": {
  "kernelspec": {
   "display_name": "Python 3.10.6 64-bit",
   "language": "python",
   "name": "python3"
  },
  "language_info": {
   "codemirror_mode": {
    "name": "ipython",
    "version": 3
   },
   "file_extension": ".py",
   "mimetype": "text/x-python",
   "name": "python",
   "nbconvert_exporter": "python",
   "pygments_lexer": "ipython3",
   "version": "3.10.6"
  },
  "orig_nbformat": 4,
  "vscode": {
   "interpreter": {
    "hash": "916dbcbb3f70747c44a77c7bcd40155683ae19c65e1c03b4aa3499c5328201f1"
   }
  }
 },
 "nbformat": 4,
 "nbformat_minor": 2
}
