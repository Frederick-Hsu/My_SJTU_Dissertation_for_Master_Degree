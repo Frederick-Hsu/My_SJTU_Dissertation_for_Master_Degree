{
 "cells": [
  {
   "cell_type": "markdown",
   "id": "45f349b5",
   "metadata": {},
   "source": [
    "# Calculate the metrics for validateset 9 CT cases"
   ]
  },
  {
   "cell_type": "code",
   "execution_count": 1,
   "id": "e12a8892",
   "metadata": {},
   "outputs": [],
   "source": [
    "# Groundtruth and Predict NiFiT files\n",
    "\n",
    "ATM_029_0000 = [\"val060/ATM_029_0000-groundtruth.nii.gz\", \"val060/ATM_029_0000-predict.nii.gz\"]\n",
    "ATM_054_0000 = [\"val060/ATM_054_0000-groundtruth.nii.gz\", \"val060/ATM_054_0000-predict.nii.gz\"]\n",
    "ATM_055_0000 = [\"val060/ATM_055_0000-groundtruth.nii.gz\", \"val060/ATM_055_0000-predict.nii.gz\"]\n",
    "ATM_057_0000 = [\"val060/ATM_057_0000-groundtruth.nii.gz\", \"val060/ATM_057_0000-predict.nii.gz\"]\n",
    "ATM_091_0000 = [\"val060/ATM_091_0000-groundtruth.nii.gz\", \"val060/ATM_091_0000-predict.nii.gz\"]\n",
    "ATM_174_0000 = [\"val060/ATM_174_0000-groundtruth.nii.gz\", \"val060/ATM_174_0000-predict.nii.gz\"]\n",
    "ATM_215_0000 = [\"val060/ATM_215_0000-groundtruth.nii.gz\", \"val060/ATM_215_0000-predict.nii.gz\"]\n",
    "ATM_505_0000 = [\"val060/ATM_505_0000-groundtruth.nii.gz\", \"val060/ATM_505_0000-predict.nii.gz\"]\n",
    "ATM_688_0000 = [\"val060/ATM_688_0000-groundtruth.nii.gz\", \"val060/ATM_688_0000-predict.nii.gz\"]"
   ]
  },
  {
   "cell_type": "code",
   "execution_count": 2,
   "id": "16b189f0",
   "metadata": {},
   "outputs": [],
   "source": [
    "import SimpleITK as sitk\n",
    "import numpy as np\n",
    "\n",
    "def load_CT_scan_3D_image(niigz_file_name):\n",
    "    itkimage = sitk.ReadImage(niigz_file_name)\n",
    "    numpyImages = sitk.GetArrayFromImage(itkimage)\n",
    "    numpyOrigin = np.array(list(reversed(itkimage.GetOrigin())))\n",
    "    numpySpacing = np.array(list(reversed(itkimage.GetSpacing())))\n",
    "    return numpyImages, numpyOrigin, numpySpacing"
   ]
  },
  {
   "cell_type": "code",
   "execution_count": 3,
   "id": "cd0be9a1",
   "metadata": {},
   "outputs": [],
   "source": [
    "def dice_coefficient_score_calculation(pred, label, smooth=1e-5):\n",
    "    pred = pred.flatten()\n",
    "    label = label.flatten()\n",
    "    intersection = np.sum(pred * label)\n",
    "    dice_coefficient_score = round(((2.0 * intersection + smooth) / (np.sum(pred) + np.sum(label) + smooth)) * 100, 2)\n",
    "    return dice_coefficient_score\n",
    "\n",
    "def false_positive_rate_calculation(pred, label, smooth=1e-5):\n",
    "    pred = pred.flatten()\n",
    "    label = label.flatten()\n",
    "    fp = np.sum(pred - pred * label) + smooth\n",
    "    fpr = round(fp * 100 / (np.sum((1.0 - label)) + smooth), 3)\n",
    "    return fpr\n",
    "\n",
    "def false_negative_rate_calculation(pred, label, smooth=1e-5):\n",
    "    pred = pred.flatten()\n",
    "    label = label.flatten()\n",
    "    fn = np.sum(label - pred * label) + smooth\n",
    "    fnr = round(fn * 100 / (np.sum(label) + smooth), 3)\n",
    "    return fnr\n",
    "\n",
    "def sensitivity_calculation(pred, label):\n",
    "    sensitivity = round(100 - false_negative_rate_calculation(pred, label), 3)\n",
    "    return sensitivity\n",
    "\n",
    "def precision_calculation(pred, label, smooth=1e-5):\n",
    "    pred = pred.flatten()\n",
    "    label = label.flatten()\n",
    "    tp = np.sum(pred * label) + smooth\n",
    "    precision = round(tp * 100 / (np.sum(pred) + smooth), 3)\n",
    "    return precision"
   ]
  },
  {
   "cell_type": "markdown",
   "id": "fd6e3d4c",
   "metadata": {},
   "source": [
    "# ATM_029_0000"
   ]
  },
  {
   "cell_type": "code",
   "execution_count": 4,
   "id": "9aa98a03",
   "metadata": {},
   "outputs": [
    {
     "name": "stdout",
     "output_type": "stream",
     "text": [
      "FPR = 0.066 \n",
      "FNR = 14.286 \n",
      "Sensitivity = 85.714 \n",
      "Precision = 72.558 \n",
      "DSC = 78.59\n"
     ]
    }
   ],
   "source": [
    "groundtruth_npy, origin, spacing = load_CT_scan_3D_image(ATM_029_0000[0])\n",
    "predict, _, _ = load_CT_scan_3D_image(ATM_029_0000[1])\n",
    "\n",
    "slice_index = 296\n",
    "gt_slice = groundtruth_npy[slice_index, :, :]\n",
    "pred_slice = predict[slice_index, :, :]\n",
    "\n",
    "FPR = false_positive_rate_calculation(pred_slice, gt_slice)\n",
    "FNR = false_negative_rate_calculation(pred_slice, gt_slice)\n",
    "Sensitivity = sensitivity_calculation(pred_slice, gt_slice)\n",
    "Precision = precision_calculation(pred_slice, gt_slice)\n",
    "DSC = dice_coefficient_score_calculation(pred_slice, gt_slice)\n",
    "\n",
    "print(\"FPR = {0} \\nFNR = {1} \\nSensitivity = {2} \\nPrecision = {3} \\nDSC = {4}\"\n",
    "      .format(FPR, FNR, Sensitivity, Precision, DSC))"
   ]
  },
  {
   "cell_type": "markdown",
   "id": "9691e36f",
   "metadata": {},
   "source": [
    "# ATM_054_0000"
   ]
  },
  {
   "cell_type": "code",
   "execution_count": 5,
   "id": "8489db01",
   "metadata": {},
   "outputs": [
    {
     "name": "stdout",
     "output_type": "stream",
     "text": [
      "FPR = 0.068 \n",
      "FNR = 5.991 \n",
      "Sensitivity = 94.009 \n",
      "Precision = 92.039 \n",
      "DSC = 93.01\n"
     ]
    }
   ],
   "source": [
    "groundtruth_npy, origin, spacing = load_CT_scan_3D_image(ATM_054_0000[0])\n",
    "predict, _, _ = load_CT_scan_3D_image(ATM_054_0000[1])\n",
    "\n",
    "slice_index = 264\n",
    "gt_slice = groundtruth_npy[slice_index, :, :]\n",
    "pred_slice = predict[slice_index, :, :]\n",
    "\n",
    "FPR = false_positive_rate_calculation(pred_slice, gt_slice)\n",
    "FNR = false_negative_rate_calculation(pred_slice, gt_slice)\n",
    "Sensitivity = sensitivity_calculation(pred_slice, gt_slice)\n",
    "Precision = precision_calculation(pred_slice, gt_slice)\n",
    "DSC = dice_coefficient_score_calculation(pred_slice, gt_slice)\n",
    "\n",
    "print(\"FPR = {0} \\nFNR = {1} \\nSensitivity = {2} \\nPrecision = {3} \\nDSC = {4}\"\n",
    "      .format(FPR, FNR, Sensitivity, Precision, DSC))"
   ]
  },
  {
   "cell_type": "markdown",
   "id": "665cda3f",
   "metadata": {},
   "source": [
    "# ATM_055_0000"
   ]
  },
  {
   "cell_type": "code",
   "execution_count": 6,
   "id": "c9e46395",
   "metadata": {},
   "outputs": [
    {
     "name": "stdout",
     "output_type": "stream",
     "text": [
      "FPR = 0.056 \n",
      "FNR = 9.966 \n",
      "Sensitivity = 90.034 \n",
      "Precision = 86.469 \n",
      "DSC = 88.22\n"
     ]
    }
   ],
   "source": [
    "groundtruth_npy, origin, spacing = load_CT_scan_3D_image(ATM_055_0000[0])\n",
    "predict, _, _ = load_CT_scan_3D_image(ATM_055_0000[1])\n",
    "\n",
    "slice_index = 229\n",
    "gt_slice = groundtruth_npy[slice_index, :, :]\n",
    "pred_slice = predict[slice_index, :, :]\n",
    "\n",
    "FPR = false_positive_rate_calculation(pred_slice, gt_slice)\n",
    "FNR = false_negative_rate_calculation(pred_slice, gt_slice)\n",
    "Sensitivity = sensitivity_calculation(pred_slice, gt_slice)\n",
    "Precision = precision_calculation(pred_slice, gt_slice)\n",
    "DSC = dice_coefficient_score_calculation(pred_slice, gt_slice)\n",
    "\n",
    "print(\"FPR = {0} \\nFNR = {1} \\nSensitivity = {2} \\nPrecision = {3} \\nDSC = {4}\"\n",
    "      .format(FPR, FNR, Sensitivity, Precision, DSC))"
   ]
  },
  {
   "cell_type": "markdown",
   "id": "151a09f5",
   "metadata": {},
   "source": [
    "# ATM_057_0000"
   ]
  },
  {
   "cell_type": "code",
   "execution_count": 7,
   "id": "34a4593a",
   "metadata": {},
   "outputs": [
    {
     "name": "stdout",
     "output_type": "stream",
     "text": [
      "FPR = 0.089 \n",
      "FNR = 5.06 \n",
      "Sensitivity = 94.94 \n",
      "Precision = 83.073 \n",
      "DSC = 88.61\n"
     ]
    }
   ],
   "source": [
    "groundtruth_npy, origin, spacing = load_CT_scan_3D_image(ATM_057_0000[0])\n",
    "predict, _, _ = load_CT_scan_3D_image(ATM_057_0000[1])\n",
    "\n",
    "slice_index = 287\n",
    "gt_slice = groundtruth_npy[slice_index, :, :]\n",
    "pred_slice = predict[slice_index, :, :]\n",
    "\n",
    "FPR = false_positive_rate_calculation(pred_slice, gt_slice)\n",
    "FNR = false_negative_rate_calculation(pred_slice, gt_slice)\n",
    "Sensitivity = sensitivity_calculation(pred_slice, gt_slice)\n",
    "Precision = precision_calculation(pred_slice, gt_slice)\n",
    "DSC = dice_coefficient_score_calculation(pred_slice, gt_slice)\n",
    "\n",
    "print(\"FPR = {0} \\nFNR = {1} \\nSensitivity = {2} \\nPrecision = {3} \\nDSC = {4}\"\n",
    "      .format(FPR, FNR, Sensitivity, Precision, DSC))"
   ]
  },
  {
   "cell_type": "markdown",
   "id": "916dba6a",
   "metadata": {},
   "source": [
    "# ATM_091_0000"
   ]
  },
  {
   "cell_type": "code",
   "execution_count": 8,
   "id": "5dbaef0f",
   "metadata": {},
   "outputs": [
    {
     "name": "stdout",
     "output_type": "stream",
     "text": [
      "FPR = 0.068 \n",
      "FNR = 3.419 \n",
      "Sensitivity = 96.581 \n",
      "Precision = 88.802 \n",
      "DSC = 92.53\n"
     ]
    }
   ],
   "source": [
    "groundtruth_npy, origin, spacing = load_CT_scan_3D_image(ATM_091_0000[0])\n",
    "predict, _, _ = load_CT_scan_3D_image(ATM_091_0000[1])\n",
    "\n",
    "slice_index = 281\n",
    "gt_slice = groundtruth_npy[slice_index, :, :]\n",
    "pred_slice = predict[slice_index, :, :]\n",
    "\n",
    "FPR = false_positive_rate_calculation(pred_slice, gt_slice)\n",
    "FNR = false_negative_rate_calculation(pred_slice, gt_slice)\n",
    "Sensitivity = sensitivity_calculation(pred_slice, gt_slice)\n",
    "Precision = precision_calculation(pred_slice, gt_slice)\n",
    "DSC = dice_coefficient_score_calculation(pred_slice, gt_slice)\n",
    "\n",
    "print(\"FPR = {0} \\nFNR = {1} \\nSensitivity = {2} \\nPrecision = {3} \\nDSC = {4}\"\n",
    "      .format(FPR, FNR, Sensitivity, Precision, DSC))"
   ]
  },
  {
   "cell_type": "markdown",
   "id": "1599905b",
   "metadata": {},
   "source": [
    "# ATM_174_0000"
   ]
  },
  {
   "cell_type": "code",
   "execution_count": 9,
   "id": "8c4d1c62",
   "metadata": {},
   "outputs": [
    {
     "name": "stdout",
     "output_type": "stream",
     "text": [
      "FPR = 0.044 \n",
      "FNR = 69.159 \n",
      "Sensitivity = 30.841 \n",
      "Precision = 82.5 \n",
      "DSC = 44.9\n"
     ]
    }
   ],
   "source": [
    "groundtruth_npy, origin, spacing = load_CT_scan_3D_image(ATM_174_0000[0])\n",
    "predict, _, _ = load_CT_scan_3D_image(ATM_174_0000[1])\n",
    "\n",
    "slice_index = 74\n",
    "gt_slice = groundtruth_npy[slice_index, :, :]\n",
    "pred_slice = predict[slice_index, :, :]\n",
    "\n",
    "FPR = false_positive_rate_calculation(pred_slice, gt_slice)\n",
    "FNR = false_negative_rate_calculation(pred_slice, gt_slice)\n",
    "Sensitivity = sensitivity_calculation(pred_slice, gt_slice)\n",
    "Precision = precision_calculation(pred_slice, gt_slice)\n",
    "DSC = dice_coefficient_score_calculation(pred_slice, gt_slice)\n",
    "\n",
    "print(\"FPR = {0} \\nFNR = {1} \\nSensitivity = {2} \\nPrecision = {3} \\nDSC = {4}\"\n",
    "      .format(FPR, FNR, Sensitivity, Precision, DSC))"
   ]
  },
  {
   "cell_type": "markdown",
   "id": "5b6373dd",
   "metadata": {},
   "source": [
    "# ATM_215_0000"
   ]
  },
  {
   "cell_type": "code",
   "execution_count": 10,
   "id": "5ea4be10",
   "metadata": {},
   "outputs": [
    {
     "name": "stdout",
     "output_type": "stream",
     "text": [
      "FPR = 0.021 \n",
      "FNR = 18.069 \n",
      "Sensitivity = 81.931 \n",
      "Precision = 90.068 \n",
      "DSC = 85.81\n"
     ]
    }
   ],
   "source": [
    "groundtruth_npy, origin, spacing = load_CT_scan_3D_image(ATM_215_0000[0])\n",
    "predict, _, _ = load_CT_scan_3D_image(ATM_215_0000[1])\n",
    "\n",
    "slice_index = 216\n",
    "gt_slice = groundtruth_npy[slice_index, :, :]\n",
    "pred_slice = predict[slice_index, :, :]\n",
    "\n",
    "FPR = false_positive_rate_calculation(pred_slice, gt_slice)\n",
    "FNR = false_negative_rate_calculation(pred_slice, gt_slice)\n",
    "Sensitivity = sensitivity_calculation(pred_slice, gt_slice)\n",
    "Precision = precision_calculation(pred_slice, gt_slice)\n",
    "DSC = dice_coefficient_score_calculation(pred_slice, gt_slice)\n",
    "\n",
    "print(\"FPR = {0} \\nFNR = {1} \\nSensitivity = {2} \\nPrecision = {3} \\nDSC = {4}\"\n",
    "      .format(FPR, FNR, Sensitivity, Precision, DSC))"
   ]
  },
  {
   "cell_type": "markdown",
   "id": "10dd251f",
   "metadata": {},
   "source": [
    "# ATM_505_0000"
   ]
  },
  {
   "cell_type": "code",
   "execution_count": 11,
   "id": "0f26b2cd",
   "metadata": {},
   "outputs": [
    {
     "name": "stdout",
     "output_type": "stream",
     "text": [
      "FPR = 0.26 \n",
      "FNR = 44.246 \n",
      "Sensitivity = 55.754 \n",
      "Precision = 72.892 \n",
      "DSC = 63.18\n"
     ]
    }
   ],
   "source": [
    "groundtruth_npy, origin, spacing = load_CT_scan_3D_image(ATM_505_0000[0])\n",
    "predict, _, _ = load_CT_scan_3D_image(ATM_505_0000[1])\n",
    "\n",
    "slice_index = 177\n",
    "gt_slice = groundtruth_npy[slice_index, :, :]\n",
    "pred_slice = predict[slice_index, :, :]\n",
    "\n",
    "FPR = false_positive_rate_calculation(pred_slice, gt_slice)\n",
    "FNR = false_negative_rate_calculation(pred_slice, gt_slice)\n",
    "Sensitivity = sensitivity_calculation(pred_slice, gt_slice)\n",
    "Precision = precision_calculation(pred_slice, gt_slice)\n",
    "DSC = dice_coefficient_score_calculation(pred_slice, gt_slice)\n",
    "\n",
    "print(\"FPR = {0} \\nFNR = {1} \\nSensitivity = {2} \\nPrecision = {3} \\nDSC = {4}\"\n",
    "      .format(FPR, FNR, Sensitivity, Precision, DSC))"
   ]
  },
  {
   "cell_type": "markdown",
   "id": "e6b7e841",
   "metadata": {},
   "source": [
    "# ATM_688_0000"
   ]
  },
  {
   "cell_type": "code",
   "execution_count": 12,
   "id": "b73168a5",
   "metadata": {},
   "outputs": [
    {
     "name": "stdout",
     "output_type": "stream",
     "text": [
      "FPR = 0.05 \n",
      "FNR = 2.038 \n",
      "Sensitivity = 97.962 \n",
      "Precision = 94.411 \n",
      "DSC = 96.15\n"
     ]
    }
   ],
   "source": [
    "groundtruth_npy, origin, spacing = load_CT_scan_3D_image(ATM_688_0000[0])\n",
    "predict, _, _ = load_CT_scan_3D_image(ATM_688_0000[1])\n",
    "\n",
    "slice_index = 292\n",
    "gt_slice = groundtruth_npy[slice_index, :, :]\n",
    "pred_slice = predict[slice_index, :, :]\n",
    "\n",
    "FPR = false_positive_rate_calculation(pred_slice, gt_slice)\n",
    "FNR = false_negative_rate_calculation(pred_slice, gt_slice)\n",
    "Sensitivity = sensitivity_calculation(pred_slice, gt_slice)\n",
    "Precision = precision_calculation(pred_slice, gt_slice)\n",
    "DSC = dice_coefficient_score_calculation(pred_slice, gt_slice)\n",
    "\n",
    "print(\"FPR = {0} \\nFNR = {1} \\nSensitivity = {2} \\nPrecision = {3} \\nDSC = {4}\"\n",
    "      .format(FPR, FNR, Sensitivity, Precision, DSC))"
   ]
  },
  {
   "cell_type": "markdown",
   "id": "2f8d0b9e",
   "metadata": {},
   "source": [
    "# Vertical comparison"
   ]
  },
  {
   "cell_type": "code",
   "execution_count": 17,
   "id": "b5375c11",
   "metadata": {},
   "outputs": [],
   "source": [
    "val010_ATM054_0000 = [\"val010/ATM_054_0000-groundtruth.nii.gz\", \n",
    "                      \"val010/ATM_054_0000-predict.nii.gz\"]\n",
    "val020_ATM054_0000 = [\"val020/ATM_054_0000-groundtruth.nii.gz\",\n",
    "                      \"val020/ATM_054_0000-predict.nii.gz\"]\n",
    "val030_ATM054_0000 = [\"val030/ATM_054_0000-groundtruth.nii.gz\",\n",
    "                      \"val030/ATM_054_0000-predict.nii.gz\"]\n",
    "val040_ATM054_0000 = [\"val040/ATM_054_0000-groundtruth.nii.gz\",\n",
    "                      \"val040/ATM_054_0000-predict.nii.gz\"]\n",
    "val050_ATM054_0000 = [\"val050/ATM_054_0000-groundtruth.nii.gz\",\n",
    "                      \"val050/ATM_054_0000-predict.nii.gz\"]\n",
    "val060_ATM054_0000 = [\"val060/ATM_054_0000-groundtruth.nii.gz\",\n",
    "                      \"val060/ATM_054_0000-predict.nii.gz\"]"
   ]
  },
  {
   "cell_type": "code",
   "execution_count": 18,
   "id": "7f999d52",
   "metadata": {},
   "outputs": [],
   "source": [
    "slice_index = 264"
   ]
  },
  {
   "cell_type": "markdown",
   "id": "bef0dd5d",
   "metadata": {},
   "source": [
    "# val010 ATM_054_0000"
   ]
  },
  {
   "cell_type": "code",
   "execution_count": 19,
   "id": "b03b7816",
   "metadata": {},
   "outputs": [
    {
     "name": "stdout",
     "output_type": "stream",
     "text": [
      "FPR = 0.025 \n",
      "FNR = 12.268 \n",
      "Sensitivity = 87.732 \n",
      "Precision = 96.698 \n",
      "DSC = 92.0\n"
     ]
    }
   ],
   "source": [
    "gt, origin, spacing = load_CT_scan_3D_image(val010_ATM054_0000[0])\n",
    "pred, _, _ = load_CT_scan_3D_image(val010_ATM054_0000[1])\n",
    "gt_slice = gt[slice_index, :, :]\n",
    "pred_slice = pred[slice_index, :, :]\n",
    "\n",
    "FPR = false_positive_rate_calculation(pred_slice, gt_slice)\n",
    "FNR = false_negative_rate_calculation(pred_slice, gt_slice)\n",
    "Sensitivity = sensitivity_calculation(pred_slice, gt_slice)\n",
    "Precision = precision_calculation(pred_slice, gt_slice)\n",
    "DSC = dice_coefficient_score_calculation(pred_slice, gt_slice)\n",
    "\n",
    "print(\"FPR = {0} \\nFNR = {1} \\nSensitivity = {2} \\nPrecision = {3} \\nDSC = {4}\"\n",
    "      .format(FPR, FNR, Sensitivity, Precision, DSC))"
   ]
  },
  {
   "cell_type": "markdown",
   "id": "173c56b0",
   "metadata": {},
   "source": [
    "# val020 ATM_054_0000"
   ]
  },
  {
   "cell_type": "code",
   "execution_count": 20,
   "id": "96f51a6a",
   "metadata": {},
   "outputs": [
    {
     "name": "stdout",
     "output_type": "stream",
     "text": [
      "FPR = 0.061 \n",
      "FNR = 6.419 \n",
      "Sensitivity = 93.581 \n",
      "Precision = 92.786 \n",
      "DSC = 93.18\n"
     ]
    }
   ],
   "source": [
    "gt, origin, spacing = load_CT_scan_3D_image(val020_ATM054_0000[0])\n",
    "pred, _, _ = load_CT_scan_3D_image(val020_ATM054_0000[1])\n",
    "gt_slice = gt[slice_index, :, :]\n",
    "pred_slice = pred[slice_index, :, :]\n",
    "\n",
    "FPR = false_positive_rate_calculation(pred_slice, gt_slice)\n",
    "FNR = false_negative_rate_calculation(pred_slice, gt_slice)\n",
    "Sensitivity = sensitivity_calculation(pred_slice, gt_slice)\n",
    "Precision = precision_calculation(pred_slice, gt_slice)\n",
    "DSC = dice_coefficient_score_calculation(pred_slice, gt_slice)\n",
    "\n",
    "print(\"FPR = {0} \\nFNR = {1} \\nSensitivity = {2} \\nPrecision = {3} \\nDSC = {4}\"\n",
    "      .format(FPR, FNR, Sensitivity, Precision, DSC))"
   ]
  },
  {
   "cell_type": "markdown",
   "id": "7d244c3b",
   "metadata": {},
   "source": [
    "# val030 ATM_054_0000"
   ]
  },
  {
   "cell_type": "code",
   "execution_count": 21,
   "id": "44c074a5",
   "metadata": {},
   "outputs": [
    {
     "name": "stdout",
     "output_type": "stream",
     "text": [
      "FPR = 0.066 \n",
      "FNR = 6.419 \n",
      "Sensitivity = 93.581 \n",
      "Precision = 92.264 \n",
      "DSC = 92.92\n"
     ]
    }
   ],
   "source": [
    "gt, origin, spacing = load_CT_scan_3D_image(val030_ATM054_0000[0])\n",
    "pred, _, _ = load_CT_scan_3D_image(val030_ATM054_0000[1])\n",
    "gt_slice = gt[slice_index, :, :]\n",
    "pred_slice = pred[slice_index, :, :]\n",
    "\n",
    "FPR = false_positive_rate_calculation(pred_slice, gt_slice)\n",
    "FNR = false_negative_rate_calculation(pred_slice, gt_slice)\n",
    "Sensitivity = sensitivity_calculation(pred_slice, gt_slice)\n",
    "Precision = precision_calculation(pred_slice, gt_slice)\n",
    "DSC = dice_coefficient_score_calculation(pred_slice, gt_slice)\n",
    "\n",
    "print(\"FPR = {0} \\nFNR = {1} \\nSensitivity = {2} \\nPrecision = {3} \\nDSC = {4}\"\n",
    "      .format(FPR, FNR, Sensitivity, Precision, DSC))"
   ]
  },
  {
   "cell_type": "markdown",
   "id": "448892fa",
   "metadata": {},
   "source": [
    "# val040 ATM_054_0000\n"
   ]
  },
  {
   "cell_type": "code",
   "execution_count": 22,
   "id": "49404181",
   "metadata": {},
   "outputs": [
    {
     "name": "stdout",
     "output_type": "stream",
     "text": [
      "FPR = 0.066 \n",
      "FNR = 6.277 \n",
      "Sensitivity = 93.723 \n",
      "Precision = 92.275 \n",
      "DSC = 92.99\n"
     ]
    }
   ],
   "source": [
    "gt, origin, spacing = load_CT_scan_3D_image(val040_ATM054_0000[0])\n",
    "pred, _, _ = load_CT_scan_3D_image(val040_ATM054_0000[1])\n",
    "gt_slice = gt[slice_index, :, :]\n",
    "pred_slice = pred[slice_index, :, :]\n",
    "\n",
    "FPR = false_positive_rate_calculation(pred_slice, gt_slice)\n",
    "FNR = false_negative_rate_calculation(pred_slice, gt_slice)\n",
    "Sensitivity = sensitivity_calculation(pred_slice, gt_slice)\n",
    "Precision = precision_calculation(pred_slice, gt_slice)\n",
    "DSC = dice_coefficient_score_calculation(pred_slice, gt_slice)\n",
    "\n",
    "print(\"FPR = {0} \\nFNR = {1} \\nSensitivity = {2} \\nPrecision = {3} \\nDSC = {4}\"\n",
    "      .format(FPR, FNR, Sensitivity, Precision, DSC))"
   ]
  },
  {
   "cell_type": "markdown",
   "id": "6986de33",
   "metadata": {},
   "source": [
    "# val050 ATM_054_0000"
   ]
  },
  {
   "cell_type": "code",
   "execution_count": 23,
   "id": "8d464d6f",
   "metadata": {},
   "outputs": [
    {
     "name": "stdout",
     "output_type": "stream",
     "text": [
      "FPR = 0.068 \n",
      "FNR = 6.277 \n",
      "Sensitivity = 93.723 \n",
      "Precision = 92.017 \n",
      "DSC = 92.86\n"
     ]
    }
   ],
   "source": [
    "gt, origin, spacing = load_CT_scan_3D_image(val050_ATM054_0000[0])\n",
    "pred, _, _ = load_CT_scan_3D_image(val050_ATM054_0000[1])\n",
    "gt_slice = gt[slice_index, :, :]\n",
    "pred_slice = pred[slice_index, :, :]\n",
    "\n",
    "FPR = false_positive_rate_calculation(pred_slice, gt_slice)\n",
    "FNR = false_negative_rate_calculation(pred_slice, gt_slice)\n",
    "Sensitivity = sensitivity_calculation(pred_slice, gt_slice)\n",
    "Precision = precision_calculation(pred_slice, gt_slice)\n",
    "DSC = dice_coefficient_score_calculation(pred_slice, gt_slice)\n",
    "\n",
    "print(\"FPR = {0} \\nFNR = {1} \\nSensitivity = {2} \\nPrecision = {3} \\nDSC = {4}\"\n",
    "      .format(FPR, FNR, Sensitivity, Precision, DSC))"
   ]
  },
  {
   "cell_type": "markdown",
   "id": "62aca4b9",
   "metadata": {},
   "source": [
    "# val060 ATM_054_0000"
   ]
  },
  {
   "cell_type": "code",
   "execution_count": 24,
   "id": "a87fb9a9",
   "metadata": {},
   "outputs": [
    {
     "name": "stdout",
     "output_type": "stream",
     "text": [
      "FPR = 0.068 \n",
      "FNR = 5.991 \n",
      "Sensitivity = 94.009 \n",
      "Precision = 92.039 \n",
      "DSC = 93.01\n"
     ]
    }
   ],
   "source": [
    "gt, origin, spacing = load_CT_scan_3D_image(val060_ATM054_0000[0])\n",
    "pred, _, _ = load_CT_scan_3D_image(val060_ATM054_0000[1])\n",
    "gt_slice = gt[slice_index, :, :]\n",
    "pred_slice = pred[slice_index, :, :]\n",
    "\n",
    "FPR = false_positive_rate_calculation(pred_slice, gt_slice)\n",
    "FNR = false_negative_rate_calculation(pred_slice, gt_slice)\n",
    "Sensitivity = sensitivity_calculation(pred_slice, gt_slice)\n",
    "Precision = precision_calculation(pred_slice, gt_slice)\n",
    "DSC = dice_coefficient_score_calculation(pred_slice, gt_slice)\n",
    "\n",
    "print(\"FPR = {0} \\nFNR = {1} \\nSensitivity = {2} \\nPrecision = {3} \\nDSC = {4}\"\n",
    "      .format(FPR, FNR, Sensitivity, Precision, DSC))"
   ]
  },
  {
   "cell_type": "code",
   "execution_count": null,
   "id": "61e81099",
   "metadata": {},
   "outputs": [],
   "source": []
  }
 ],
 "metadata": {
  "kernelspec": {
   "display_name": "Python 3.10.6 64-bit",
   "language": "python",
   "name": "python3"
  },
  "language_info": {
   "codemirror_mode": {
    "name": "ipython",
    "version": 3
   },
   "file_extension": ".py",
   "mimetype": "text/x-python",
   "name": "python",
   "nbconvert_exporter": "python",
   "pygments_lexer": "ipython3",
   "version": "3.10.6"
  },
  "vscode": {
   "interpreter": {
    "hash": "916dbcbb3f70747c44a77c7bcd40155683ae19c65e1c03b4aa3499c5328201f1"
   }
  }
 },
 "nbformat": 4,
 "nbformat_minor": 5
}
