{
 "cells": [
  {
   "cell_type": "markdown",
   "metadata": {},
   "source": [
    "# Calculate the metrics for validate set"
   ]
  },
  {
   "cell_type": "code",
   "execution_count": 1,
   "metadata": {},
   "outputs": [
    {
     "name": "stdout",
     "output_type": "stream",
     "text": [
      "['ATM_029_0000', 'ATM_054_0000', 'ATM_055_0000', 'ATM_057_0000', 'ATM_091_0000', 'ATM_174_0000', 'ATM_215_0000', 'ATM_505_0000', 'ATM_688_0000']\n",
      "9\n"
     ]
    }
   ],
   "source": [
    "import os\n",
    "\n",
    "niigz_files = os.listdir()\n",
    "niigz_files.sort()\n",
    "# niigz_files\n",
    "\n",
    "groundtruth_files = []\n",
    "predict_files = []\n",
    "for niigz_file in niigz_files:\n",
    "    if \"groundtruth\" in niigz_file:\n",
    "        groundtruth_files.append(niigz_file)\n",
    "    if \"predict\" in niigz_file:\n",
    "        predict_files.append(niigz_file)\n",
    "\n",
    "groundtruth_files.sort()\n",
    "predict_files.sort()\n",
    "\n",
    "case_names = []\n",
    "for file in groundtruth_files:\n",
    "    case_name = file.split(\"-groundtruth\")[0]\n",
    "    case_names.append(case_name)\n",
    "\n",
    "case_names.sort()\n",
    "print(case_names)\n",
    "\n",
    "test_dict = dict()\n",
    "for case_name in case_names:\n",
    "    test_dict[case_name] = {}\n",
    "    groundtruth_niigz = case_name + \"-groundtruth.nii.gz\"\n",
    "    predict_niigz = case_name + \"-predict.nii.gz\"\n",
    "    test_dict[case_name][\"groundtruth\"] = groundtruth_niigz\n",
    "    test_dict[case_name][\"predict\"] = predict_niigz\n",
    "\n",
    "print(len(test_dict))"
   ]
  },
  {
   "cell_type": "code",
   "execution_count": 2,
   "metadata": {},
   "outputs": [],
   "source": [
    "import SimpleITK as sitk\n",
    "import numpy as np\n",
    "\n",
    "def load_CT_scan_3D_image(niigz_file_name):\n",
    "    itkimage = sitk.ReadImage(niigz_file_name)\n",
    "    numpyImages = sitk.GetArrayFromImage(itkimage)\n",
    "    numpyOrigin = np.array(list(reversed(itkimage.GetOrigin())))\n",
    "    numpySpacing = np.array(list(reversed(itkimage.GetSpacing())))\n",
    "    return numpyImages, numpyOrigin, numpySpacing\n",
    "\n",
    "def false_positive_rate_calculation(pred, label, smooth=1e-5):\n",
    "    pred = pred.flatten()\n",
    "    label = label.flatten()\n",
    "    fp = np.sum(pred - pred * label) + smooth\n",
    "    fpr = round(fp * 100 / (np.sum((1.0 - label)) + smooth), 3)\n",
    "    return fpr\n",
    "\n",
    "def false_negative_rate_calculation(pred, label, smooth=1e-5):\n",
    "    pred = pred.flatten()\n",
    "    label = label.flatten()\n",
    "    fn = np.sum(label - pred * label) + smooth\n",
    "    fnr = round(fn * 100 / (np.sum(label) + smooth), 3)\n",
    "    return fnr\n",
    "\n",
    "def sensitivity_calculation(pred, label):   #  identical to True-Positive-Rate\n",
    "    sensitivity = round(100 - false_negative_rate_calculation(pred, label), 3)\n",
    "    return sensitivity\n",
    "\n",
    "def dice_coefficient_score_calculation(pred, label, smooth=1e-5):\n",
    "    pred = pred.flatten()\n",
    "    label = label.flatten()\n",
    "    intersection = np.sum(pred * label)\n",
    "    dice_coefficient_score = round(((2.0 * intersection + smooth) / (np.sum(pred) + np.sum(label) + smooth)) * 100, 2)\n",
    "    return dice_coefficient_score\n",
    "\n",
    "def precision_calculation(pred, label, smooth=1e-5):\n",
    "    pred = pred.flatten()\n",
    "    label = label.flatten()\n",
    "    tp = np.sum(pred * label) + smooth\n",
    "    precision = round(tp * 100 / (np.sum(pred) + smooth), 3)\n",
    "    return precision\n"
   ]
  },
  {
   "cell_type": "code",
   "execution_count": 3,
   "metadata": {},
   "outputs": [
    {
     "name": "stdout",
     "output_type": "stream",
     "text": [
      "ATM_029_0000 & 0.017 & 9.222 & 90.778 & 93.232 & 91.99, spacing = [0.5     0.78125 0.78125]\n",
      "ATM_054_0000 & 0.032 & 3.876 & 96.124 & 93.343 & 94.71, spacing = [0.5        0.83007812 0.83007812]\n",
      "ATM_055_0000 & 0.031 & 3.571 & 96.429 & 91.66 & 93.98, spacing = [0.5       0.8203125 0.8203125]\n",
      "ATM_057_0000 & 0.03 & 5.757 & 94.243 & 92.35 & 93.29, spacing = [0.5        0.83789062 0.83789062]\n",
      "ATM_091_0000 & 0.034 & 3.432 & 96.568 & 91.148 & 93.78, spacing = [0.5     0.78125 0.78125]\n",
      "ATM_174_0000 & 0.019 & 26.864 & 73.136 & 94.026 & 82.28, spacing = [1.79999995 0.625      0.625     ]\n",
      "ATM_215_0000 & 0.023 & 9.419 & 90.581 & 91.951 & 91.26, spacing = [0.625 0.625 0.625]\n",
      "ATM_505_0000 & 0.05 & 55.899 & 44.101 & 84.808 & 58.03, spacing = [0.80000001 0.6171875  0.6171875 ]\n",
      "ATM_688_0000 & 0.023 & 2.217 & 97.783 & 93.409 & 95.55, spacing = [0.5     0.78125 0.78125]\n"
     ]
    }
   ],
   "source": [
    "for item in test_dict.items():\n",
    "    case_name = item[0]\n",
    "    gt_npy, origin, spacing = load_CT_scan_3D_image(item[1][\"groundtruth\"])\n",
    "    pred_npy, _, _ = load_CT_scan_3D_image(item[1][\"predict\"])\n",
    "    \n",
    "    FPR = false_positive_rate_calculation(pred_npy, gt_npy)\n",
    "    FNR = false_negative_rate_calculation(pred_npy, gt_npy)\n",
    "    Sensitivity = sensitivity_calculation(pred_npy, gt_npy)\n",
    "    Precision = precision_calculation(pred_npy, gt_npy)\n",
    "    DSC = dice_coefficient_score_calculation(pred_npy, gt_npy)\n",
    "    \n",
    "    print(\"{0} & {1} & {2} & {3} & {4} & {5}, spacing = {6}\"\n",
    "          .format(case_name, FPR, FNR, Sensitivity, Precision, DSC, spacing))\n",
    "    "
   ]
  },
  {
   "cell_type": "code",
   "execution_count": null,
   "metadata": {},
   "outputs": [],
   "source": []
  }
 ],
 "metadata": {
  "kernelspec": {
   "display_name": "Python 3.10.6 64-bit",
   "language": "python",
   "name": "python3"
  },
  "language_info": {
   "codemirror_mode": {
    "name": "ipython",
    "version": 3
   },
   "file_extension": ".py",
   "mimetype": "text/x-python",
   "name": "python",
   "nbconvert_exporter": "python",
   "pygments_lexer": "ipython3",
   "version": "3.10.6"
  },
  "orig_nbformat": 4,
  "vscode": {
   "interpreter": {
    "hash": "916dbcbb3f70747c44a77c7bcd40155683ae19c65e1c03b4aa3499c5328201f1"
   }
  }
 },
 "nbformat": 4,
 "nbformat_minor": 2
}
