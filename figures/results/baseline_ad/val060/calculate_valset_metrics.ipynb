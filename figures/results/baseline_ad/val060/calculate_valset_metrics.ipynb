{
 "cells": [
  {
   "cell_type": "markdown",
   "metadata": {},
   "source": [
    "# Calculate the metrics for validate set"
   ]
  },
  {
   "cell_type": "code",
   "execution_count": 2,
   "metadata": {},
   "outputs": [
    {
     "name": "stdout",
     "output_type": "stream",
     "text": [
      "['ATM_029_0000', 'ATM_054_0000', 'ATM_055_0000', 'ATM_057_0000', 'ATM_091_0000', 'ATM_174_0000', 'ATM_215_0000', 'ATM_505_0000', 'ATM_688_0000']\n",
      "9\n"
     ]
    }
   ],
   "source": [
    "import os\n",
    "\n",
    "niigz_files = os.listdir()\n",
    "niigz_files.sort()\n",
    "# niigz_files\n",
    "\n",
    "groundtruth_files = []\n",
    "predict_files = []\n",
    "for niigz_file in niigz_files:\n",
    "    if \"groundtruth\" in niigz_file:\n",
    "        groundtruth_files.append(niigz_file)\n",
    "    if \"predict\" in niigz_file:\n",
    "        predict_files.append(niigz_file)\n",
    "\n",
    "groundtruth_files.sort()\n",
    "predict_files.sort()\n",
    "\n",
    "case_names = []\n",
    "for file in groundtruth_files:\n",
    "    case_name = file.split(\"-groundtruth\")[0]\n",
    "    case_names.append(case_name)\n",
    "\n",
    "case_names.sort()\n",
    "print(case_names)\n",
    "\n",
    "test_dict = dict()\n",
    "for case_name in case_names:\n",
    "    test_dict[case_name] = {}\n",
    "    groundtruth_niigz = case_name + \"-groundtruth.nii.gz\"\n",
    "    predict_niigz = case_name + \"-predict.nii.gz\"\n",
    "    test_dict[case_name][\"groundtruth\"] = groundtruth_niigz\n",
    "    test_dict[case_name][\"predict\"] = predict_niigz\n",
    "\n",
    "print(len(test_dict))"
   ]
  },
  {
   "cell_type": "code",
   "execution_count": 3,
   "metadata": {},
   "outputs": [],
   "source": [
    "import SimpleITK as sitk\n",
    "import numpy as np\n",
    "\n",
    "def load_CT_scan_3D_image(niigz_file_name):\n",
    "    itkimage = sitk.ReadImage(niigz_file_name)\n",
    "    numpyImages = sitk.GetArrayFromImage(itkimage)\n",
    "    numpyOrigin = np.array(list(reversed(itkimage.GetOrigin())))\n",
    "    numpySpacing = np.array(list(reversed(itkimage.GetSpacing())))\n",
    "    return numpyImages, numpyOrigin, numpySpacing\n",
    "\n",
    "def false_positive_rate_calculation(pred, label, smooth=1e-5):\n",
    "    pred = pred.flatten()\n",
    "    label = label.flatten()\n",
    "    fp = np.sum(pred - pred * label) + smooth\n",
    "    fpr = round(fp * 100 / (np.sum((1.0 - label)) + smooth), 3)\n",
    "    return fpr\n",
    "\n",
    "def false_negative_rate_calculation(pred, label, smooth=1e-5):\n",
    "    pred = pred.flatten()\n",
    "    label = label.flatten()\n",
    "    fn = np.sum(label - pred * label) + smooth\n",
    "    fnr = round(fn * 100 / (np.sum(label) + smooth), 3)\n",
    "    return fnr\n",
    "\n",
    "def sensitivity_calculation(pred, label):   #  identical to True-Positive-Rate\n",
    "    sensitivity = round(100 - false_negative_rate_calculation(pred, label), 3)\n",
    "    return sensitivity\n",
    "\n",
    "def dice_coefficient_score_calculation(pred, label, smooth=1e-5):\n",
    "    pred = pred.flatten()\n",
    "    label = label.flatten()\n",
    "    intersection = np.sum(pred * label)\n",
    "    dice_coefficient_score = round(((2.0 * intersection + smooth) / (np.sum(pred) + np.sum(label) + smooth)) * 100, 2)\n",
    "    return dice_coefficient_score\n",
    "\n",
    "def precision_calculation(pred, label, smooth=1e-5):\n",
    "    pred = pred.flatten()\n",
    "    label = label.flatten()\n",
    "    tp = np.sum(pred * label) + smooth\n",
    "    precision = round(tp * 100 / (np.sum(pred) + smooth), 3)\n",
    "    return precision\n"
   ]
  },
  {
   "cell_type": "code",
   "execution_count": 15,
   "metadata": {},
   "outputs": [
    {
     "name": "stdout",
     "output_type": "stream",
     "text": [
      "ATM_029_0000 & 0.022 & 9.266 & 90.734 & 91.012 & 90.87\n",
      "ATM_054_0000 & 0.037 & 3.499 & 96.501 & 92.319 & 94.36\n",
      "ATM_055_0000 & 0.039 & 3.453 & 96.547 & 89.855 & 93.08\n",
      "ATM_057_0000 & 0.039 & 4.683 & 95.317 & 90.426 & 92.81\n",
      "ATM_091_0000 & 0.041 & 3.57 & 96.43 & 89.583 & 92.88\n",
      "ATM_215_0000 & 0.021 & 10.595 & 89.405 & 92.453 & 90.9\n",
      "ATM_688_0000 & 0.028 & 2.109 & 97.891 & 92.182 & 94.95\n",
      "mean & 0.03242857142857143 & 5.310714285714286 & 94.68928571428572 & 91.11857142857143 & 92.83571428571429\n",
      "80.60714285714286 & 88.49571428571429\n"
     ]
    }
   ],
   "source": [
    "FPR_list = []\n",
    "FNR_list = []\n",
    "Sensitivity_list = []\n",
    "Precision_list = []\n",
    "DSC_list = []\n",
    "\n",
    "for item in test_dict.items():\n",
    "    case_name = item[0]\n",
    "    if (case_name == \"ATM_174_0000\") or (case_name == \"ATM_505_0000\"):\n",
    "        continue\n",
    "    gt_npy, origin, spacing = load_CT_scan_3D_image(item[1][\"groundtruth\"])\n",
    "    pred_npy, _, _ = load_CT_scan_3D_image(item[1][\"predict\"])\n",
    "    \n",
    "    FPR = false_positive_rate_calculation(pred_npy, gt_npy)\n",
    "    FNR = false_negative_rate_calculation(pred_npy, gt_npy)\n",
    "    Sensitivity = sensitivity_calculation(pred_npy, gt_npy)\n",
    "    Precision = precision_calculation(pred_npy, gt_npy)\n",
    "    DSC = dice_coefficient_score_calculation(pred_npy, gt_npy)\n",
    "    \n",
    "    print(\"{0} & {1} & {2} & {3} & {4} & {5}\"\n",
    "          .format(case_name, FPR, FNR, Sensitivity, Precision, DSC))\n",
    "    \n",
    "    FPR_list.append(FPR)\n",
    "    FNR_list.append(FNR)\n",
    "    Sensitivity_list.append(Sensitivity)\n",
    "    Precision_list.append(Precision)\n",
    "    DSC_list.append(DSC)\n",
    "\n",
    "BD_list = [76.92,\n",
    "           76.16,\n",
    "           81.17,\n",
    "           78.35,\n",
    "           85.46,\n",
    "           72.25,\n",
    "           93.94]\n",
    "\n",
    "TLD_list = [85.85,\n",
    "            83.93,\n",
    "            89.09,\n",
    "            87.98,\n",
    "            91.99,\n",
    "            84.32,\n",
    "            96.31]\n",
    "\n",
    "print(\"mean & {0} & {1} & {2} & {3} & {4}\"\n",
    "      .format(np.mean(FPR_list), \n",
    "              np.mean(FNR_list), \n",
    "              np.mean(Sensitivity_list),\n",
    "              np.mean(Precision_list),\n",
    "              np.mean(DSC_list)))\n",
    "    \n",
    "print(\"{0} & {1}\".format(np.mean(BD_list), np.mean(TLD_list)))"
   ]
  },
  {
   "cell_type": "code",
   "execution_count": null,
   "metadata": {},
   "outputs": [],
   "source": []
  }
 ],
 "metadata": {
  "kernelspec": {
   "display_name": "Python 3.10.6 64-bit",
   "language": "python",
   "name": "python3"
  },
  "language_info": {
   "codemirror_mode": {
    "name": "ipython",
    "version": 3
   },
   "file_extension": ".py",
   "mimetype": "text/x-python",
   "name": "python",
   "nbconvert_exporter": "python",
   "pygments_lexer": "ipython3",
   "version": "3.10.6"
  },
  "orig_nbformat": 4,
  "vscode": {
   "interpreter": {
    "hash": "916dbcbb3f70747c44a77c7bcd40155683ae19c65e1c03b4aa3499c5328201f1"
   }
  }
 },
 "nbformat": 4,
 "nbformat_minor": 2
}
