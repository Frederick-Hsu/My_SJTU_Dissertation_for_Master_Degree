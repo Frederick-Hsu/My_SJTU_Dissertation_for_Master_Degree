{
 "cells": [
  {
   "cell_type": "markdown",
   "metadata": {},
   "source": [
    "# Calculate the metrics for validate set"
   ]
  },
  {
   "cell_type": "code",
   "execution_count": 1,
   "metadata": {},
   "outputs": [
    {
     "name": "stdout",
     "output_type": "stream",
     "text": [
      "['ATM_001_0000', 'ATM_024_0000', 'ATM_034_0000', 'ATM_041_0000', 'ATM_060_0000', 'ATM_061_0000', 'ATM_074_0000', 'ATM_075_0000', 'ATM_080_0000', 'ATM_150_0000', 'ATM_158_0000', 'ATM_163_0000', 'ATM_197_0000', 'ATM_245_0000', 'ATM_246_0000', 'ATM_260_0000', 'ATM_266_0000', 'ATM_271_0000', 'ATM_638_0000']\n",
      "19\n"
     ]
    }
   ],
   "source": [
    "import os\n",
    "\n",
    "niigz_files = os.listdir()\n",
    "niigz_files.sort()\n",
    "# niigz_files\n",
    "\n",
    "groundtruth_files = []\n",
    "predict_files = []\n",
    "for niigz_file in niigz_files:\n",
    "    if \"groundtruth\" in niigz_file:\n",
    "        groundtruth_files.append(niigz_file)\n",
    "    if \"predict\" in niigz_file:\n",
    "        predict_files.append(niigz_file)\n",
    "\n",
    "groundtruth_files.sort()\n",
    "predict_files.sort()\n",
    "\n",
    "case_names = []\n",
    "for file in groundtruth_files:\n",
    "    case_name = file.split(\"-groundtruth\")[0]\n",
    "    case_names.append(case_name)\n",
    "\n",
    "case_names.sort()\n",
    "print(case_names)\n",
    "\n",
    "test_dict = dict()\n",
    "for case_name in case_names:\n",
    "    test_dict[case_name] = {}\n",
    "    groundtruth_niigz = case_name + \"-groundtruth.nii.gz\"\n",
    "    predict_niigz = case_name + \"-predict.nii.gz\"\n",
    "    test_dict[case_name][\"groundtruth\"] = groundtruth_niigz\n",
    "    test_dict[case_name][\"predict\"] = predict_niigz\n",
    "\n",
    "print(len(test_dict))"
   ]
  },
  {
   "cell_type": "code",
   "execution_count": 2,
   "metadata": {},
   "outputs": [],
   "source": [
    "import SimpleITK as sitk\n",
    "import numpy as np\n",
    "\n",
    "def load_CT_scan_3D_image(niigz_file_name):\n",
    "    itkimage = sitk.ReadImage(niigz_file_name)\n",
    "    numpyImages = sitk.GetArrayFromImage(itkimage)\n",
    "    numpyOrigin = np.array(list(reversed(itkimage.GetOrigin())))\n",
    "    numpySpacing = np.array(list(reversed(itkimage.GetSpacing())))\n",
    "    return numpyImages, numpyOrigin, numpySpacing\n",
    "\n",
    "def false_positive_rate_calculation(pred, label, smooth=1e-5):\n",
    "    pred = pred.flatten()\n",
    "    label = label.flatten()\n",
    "    fp = np.sum(pred - pred * label) + smooth\n",
    "    fpr = round(fp * 100 / (np.sum((1.0 - label)) + smooth), 3)\n",
    "    return fpr\n",
    "\n",
    "def false_negative_rate_calculation(pred, label, smooth=1e-5):\n",
    "    pred = pred.flatten()\n",
    "    label = label.flatten()\n",
    "    fn = np.sum(label - pred * label) + smooth\n",
    "    fnr = round(fn * 100 / (np.sum(label) + smooth), 3)\n",
    "    return fnr\n",
    "\n",
    "def sensitivity_calculation(pred, label):   #  identical to True-Positive-Rate\n",
    "    sensitivity = round(100 - false_negative_rate_calculation(pred, label), 3)\n",
    "    return sensitivity\n",
    "\n",
    "def dice_coefficient_score_calculation(pred, label, smooth=1e-5):\n",
    "    pred = pred.flatten()\n",
    "    label = label.flatten()\n",
    "    intersection = np.sum(pred * label)\n",
    "    dice_coefficient_score = round(((2.0 * intersection + smooth) / (np.sum(pred) + np.sum(label) + smooth)) * 100, 2)\n",
    "    return dice_coefficient_score\n",
    "\n",
    "def precision_calculation(pred, label, smooth=1e-5):\n",
    "    pred = pred.flatten()\n",
    "    label = label.flatten()\n",
    "    tp = np.sum(pred * label) + smooth\n",
    "    precision = round(tp * 100 / (np.sum(pred) + smooth), 3)\n",
    "    return precision\n"
   ]
  },
  {
   "cell_type": "code",
   "execution_count": 4,
   "metadata": {},
   "outputs": [
    {
     "name": "stdout",
     "output_type": "stream",
     "text": [
      "ATM_001_0000 & 0.007 & 7.258 & 92.742 & 97.779 & 95.19\n",
      "ATM_024_0000 & 0.036 & 6.387 & 93.613 & 89.696 & 91.61\n",
      "ATM_034_0000 & 0.021 & 4.039 & 95.961 & 96.455 & 96.21\n",
      "ATM_041_0000 & 0.055 & 4.486 & 95.514 & 85.247 & 90.09\n",
      "ATM_060_0000 & 0.027 & 2.682 & 97.318 & 92.505 & 94.85\n",
      "ATM_061_0000 & 0.034 & 3.152 & 96.848 & 90.471 & 93.55\n",
      "ATM_074_0000 & 0.06 & 2.934 & 97.066 & 85.671 & 91.01\n",
      "ATM_075_0000 & 0.027 & 3.944 & 96.056 & 92.649 & 94.32\n",
      "ATM_080_0000 & 0.031 & 3.662 & 96.338 & 92.216 & 94.23\n",
      "ATM_150_0000 & 0.085 & 3.853 & 96.147 & 79.511 & 87.04\n",
      "ATM_158_0000 & 0.047 & 3.003 & 96.997 & 86.234 & 91.3\n",
      "ATM_163_0000 & 0.039 & 3.726 & 96.274 & 91.247 & 93.69\n",
      "ATM_197_0000 & 0.032 & 10.332 & 89.668 & 90.723 & 90.19\n",
      "ATM_245_0000 & 0.036 & 0.568 & 99.432 & 84.172 & 91.17\n",
      "ATM_246_0000 & 0.041 & 0.629 & 99.371 & 82.469 & 90.13\n",
      "ATM_260_0000 & 0.019 & 1.144 & 98.856 & 93.23 & 95.96\n",
      "ATM_266_0000 & 0.025 & 2.077 & 97.923 & 91.103 & 94.39\n",
      "ATM_271_0000 & 0.055 & 1.238 & 98.762 & 85.151 & 91.45\n",
      "ATM_638_0000 & 0.016 & 3.52 & 96.48 & 94.514 & 95.49\n",
      "mean & 0.03647368421052632 & 3.6123157894736844 & 96.38768421052632 & 89.52857894736843 & 92.73\n"
     ]
    }
   ],
   "source": [
    "FPR_list = []\n",
    "FNR_list = []\n",
    "Sensitivity_list = []\n",
    "Precision_list = []\n",
    "DSC_list = []\n",
    "\n",
    "for item in test_dict.items():\n",
    "    case_name = item[0]\n",
    "    gt_npy, origin, spacing = load_CT_scan_3D_image(item[1][\"groundtruth\"])\n",
    "    pred_npy, _, _ = load_CT_scan_3D_image(item[1][\"predict\"])\n",
    "    \n",
    "    FPR = false_positive_rate_calculation(pred_npy, gt_npy)\n",
    "    FNR = false_negative_rate_calculation(pred_npy, gt_npy)\n",
    "    Sensitivity = sensitivity_calculation(pred_npy, gt_npy)\n",
    "    Precision = precision_calculation(pred_npy, gt_npy)\n",
    "    DSC = dice_coefficient_score_calculation(pred_npy, gt_npy)\n",
    "    \n",
    "    print(\"{0} & {1} & {2} & {3} & {4} & {5}\"\n",
    "          .format(case_name, FPR, FNR, Sensitivity, Precision, DSC))\n",
    "    \n",
    "    FPR_list.append(FPR)\n",
    "    FNR_list.append(FNR)\n",
    "    Sensitivity_list.append(Sensitivity)\n",
    "    Precision_list.append(Precision)\n",
    "    DSC_list.append(DSC)\n",
    "\n",
    "print(\"mean & {0} & {1} & {2} & {3} & {4}\"\n",
    "      .format(np.mean(FPR_list), \n",
    "              np.mean(FNR_list), \n",
    "              np.mean(Sensitivity_list),\n",
    "              np.mean(Precision_list),\n",
    "              np.mean(DSC_list)))\n",
    "    "
   ]
  },
  {
   "cell_type": "code",
   "execution_count": 5,
   "metadata": {},
   "outputs": [
    {
     "name": "stdout",
     "output_type": "stream",
     "text": [
      "87.98315789473685 & 93.3042105263158\n"
     ]
    }
   ],
   "source": [
    "BD_list = [71.05,\n",
    "           87.54,\n",
    "           93.06,\n",
    "           83.42,\n",
    "           90.17,\n",
    "           85.05,\n",
    "           91.64,\n",
    "           88.68,\n",
    "           78.55,\n",
    "           74.78,\n",
    "           87.87,\n",
    "           88.06,\n",
    "           64.03,\n",
    "           100  ,\n",
    "           100  ,\n",
    "           98.9 ,\n",
    "           100  ,\n",
    "           98.4 ,\n",
    "           90.48]\n",
    "\n",
    "TLD_list = [85.1 ,\n",
    "            93.5 ,\n",
    "            94.67,\n",
    "            90.69,\n",
    "            94.34,\n",
    "            90.35,\n",
    "            94.44,\n",
    "            92.16,\n",
    "            88.01,\n",
    "            88.6 ,\n",
    "            92.67,\n",
    "            94.41,\n",
    "            81.64,\n",
    "            100  ,\n",
    "            100  ,\n",
    "            98.71,\n",
    "            99.24,\n",
    "            98.34,\n",
    "            95.91]\n",
    "print(\"{0} & {1}\".format(np.mean(BD_list), np.mean(TLD_list)))"
   ]
  },
  {
   "cell_type": "code",
   "execution_count": 12,
   "metadata": {},
   "outputs": [
    {
     "name": "stdout",
     "output_type": "stream",
     "text": [
      "(9, 7) (19, 7)\n",
      "[0.028777777777777777, 13.36188888888889, 86.63811111111112, 91.76966666666667, 88.31888888888889, 68.53, 78.47666666666667]\n"
     ]
    }
   ],
   "source": [
    "metrics_3DUNet_valset = np.array([\n",
    "    [0.017, 9.222 , 90.778, 93.232, 91.99, 80.34, 88.48],\n",
    "    [0.032, 3.876 , 96.124, 93.343, 94.71, 76.78, 85.61],\n",
    "    [0.031, 3.571 , 96.429, 91.66 , 93.98, 82.51, 89.9 ],\n",
    "    [0.03 , 5.757 , 94.243, 92.35 , 93.29, 72.85, 84.36],\n",
    "    [0.034, 3.432 , 96.568, 91.148, 93.78, 84.04, 91.09],\n",
    "    [0.019, 26.864, 73.136, 94.026, 82.28, 32.38, 47.19],\n",
    "    [0.023, 9.419 , 90.581, 91.951, 91.26, 73.3 , 84.83],\n",
    "    [0.05 , 55.899, 44.101, 84.808, 58.03, 21.5 , 39.1 ],\n",
    "    [0.023, 2.217 , 97.783, 93.409, 95.55, 93.07, 95.73],\n",
    "])\n",
    "\n",
    "metrics_3DUNet_testset = np.array([\n",
    "    [0.006,     7.24 ,       92.76 ,      98.089,       95.35,      68.95,      84.17],      \n",
    "    [0.031,     7.236,       92.764,      90.916,       91.83,      84.18,      92.86],      \n",
    "    [0.022,     3.705,       96.295,      96.251,       96.27,      90.75,      93.93],      \n",
    "    [0.047,     4.808,       95.192,      87.189,       91.02,      82.38,      90.38],      \n",
    "    [0.024,     2.534,       97.466,      93.12 ,       95.24,      88.03,      92.72],      \n",
    "    [0.028,     3.121,       96.879,      91.897,       94.32,      86.15,      90.8 ],      \n",
    "    [0.053,     3.838,       96.162,      87.038,       91.37,      80.49,      89.86],      \n",
    "    [0.023,     4.633,       95.367,      93.65 ,       94.5 ,      81.13,      88.56],      \n",
    "    [0.026,     4.067,       95.933,      93.183,       94.54,      76.9 ,      88.11],      \n",
    "    [0.082,     3.902,       96.098,      80.036,       87.33,      72.12,      87.62],      \n",
    "    [0.044,     3.461,       96.539,      86.953,       91.5 ,      80.75,      90.48],      \n",
    "    [0.035,     4.301,       95.699,      91.958,       93.79,      83.23,      91.34],      \n",
    "    [0.032,     9.234,       90.766,      90.81 ,       90.79,      59.71,      78.46],      \n",
    "    [0.038,     0.309,       99.691,      83.496,       90.88,      100  ,      100  ],\n",
    "    [0.04 ,     0.611,       99.389,      82.853,       90.37,      100  ,      100  ],\n",
    "    [0.016,     1.041,       98.959,      94.227,       96.53,      98.34,      97.93],      \n",
    "    [0.019,     2.351,       97.649,      93.112,       95.33,      99.38,      98.39],      \n",
    "    [0.049,     1.044,       98.956,      86.544,       92.33,      97.6 ,      97.62],      \n",
    "    [0.014,     3.152,       96.848,      95.199,       96.02,      90.48,      95.45],      \n",
    "])\n",
    "\n",
    "print(metrics_3DUNet_valset.shape, metrics_3DUNet_testset.shape)\n",
    "\n",
    "avg_metrics_valset = []\n",
    "for column in range(metrics_3DUNet_valset.shape[1]):\n",
    "    data = metrics_3DUNet_valset[:, column]\n",
    "    avg = np.mean(data)\n",
    "    avg_metrics_valset.append(avg)\n",
    "    \n",
    "print(avg_metrics_valset)"
   ]
  },
  {
   "cell_type": "code",
   "execution_count": 13,
   "metadata": {},
   "outputs": [
    {
     "name": "stdout",
     "output_type": "stream",
     "text": [
      "[0.03310526315789474, 3.715157894736842, 96.28484210526317, 90.34321052631581, 93.1215789473684, 85.29315789473685, 92.03578947368422]\n"
     ]
    }
   ],
   "source": [
    "avg_metrics_testset = []\n",
    "for column in range(metrics_3DUNet_testset.shape[1]):\n",
    "    data = metrics_3DUNet_testset[:, column]\n",
    "    avg = np.mean(data)\n",
    "    avg_metrics_testset.append(avg)\n",
    "\n",
    "print(avg_metrics_testset)"
   ]
  },
  {
   "cell_type": "code",
   "execution_count": null,
   "metadata": {},
   "outputs": [],
   "source": []
  }
 ],
 "metadata": {
  "kernelspec": {
   "display_name": "Python 3.10.6 64-bit",
   "language": "python",
   "name": "python3"
  },
  "language_info": {
   "codemirror_mode": {
    "name": "ipython",
    "version": 3
   },
   "file_extension": ".py",
   "mimetype": "text/x-python",
   "name": "python",
   "nbconvert_exporter": "python",
   "pygments_lexer": "ipython3",
   "version": "3.10.6"
  },
  "orig_nbformat": 4,
  "vscode": {
   "interpreter": {
    "hash": "916dbcbb3f70747c44a77c7bcd40155683ae19c65e1c03b4aa3499c5328201f1"
   }
  }
 },
 "nbformat": 4,
 "nbformat_minor": 2
}
